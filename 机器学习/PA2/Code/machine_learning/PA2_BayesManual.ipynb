{
  "nbformat": 4,
  "nbformat_minor": 0,
  "metadata": {
    "colab": {
      "provenance": []
    },
    "kernelspec": {
      "name": "python3",
      "display_name": "Python 3"
    },
    "language_info": {
      "name": "python"
    }
  },
  "cells": [
    {
      "cell_type": "markdown",
      "source": [
        "# 手动实现贝叶斯算法\n"
      ],
      "metadata": {
        "id": "fQkxliS04uBm"
      }
    },
    {
      "cell_type": "markdown",
      "source": [
        "## 包引入"
      ],
      "metadata": {
        "id": "AVRDnuQj41VD"
      }
    },
    {
      "cell_type": "code",
      "execution_count": 15,
      "metadata": {
        "id": "bx4wlFB14kPs"
      },
      "outputs": [],
      "source": [
        "import tensorflow as tf\n",
        "import numpy as np\n",
        "import tensorflow.keras.datasets as datasets\n",
        "from sklearn.decomposition import PCA\n",
        "import math"
      ]
    },
    {
      "cell_type": "markdown",
      "source": [
        "## 引入数据集"
      ],
      "metadata": {
        "id": "QP1ZURBv49HG"
      }
    },
    {
      "cell_type": "code",
      "source": [
        "# 加载CIFAR-10数据集\n",
        "(x_train, y_train), (x_test, y_test) = datasets.cifar10.load_data()"
      ],
      "metadata": {
        "id": "7GK9bX3_48kU"
      },
      "execution_count": 16,
      "outputs": []
    },
    {
      "cell_type": "code",
      "source": [
        "x_train = x_train.reshape(x_train.shape[0],-1)\n",
        "x_test = x_test.reshape(x_test.shape[0],-1)"
      ],
      "metadata": {
        "id": "NctfY2ft8PEs"
      },
      "execution_count": 24,
      "outputs": []
    },
    {
      "cell_type": "markdown",
      "source": [
        "## 超参数设定"
      ],
      "metadata": {
        "id": "hor7u0gN5ZEQ"
      }
    },
    {
      "cell_type": "code",
      "source": [
        "# 最小风险矩阵\n",
        "# m[i, j]代表把真实属于j类的样本归到i类中带来的损失\n",
        "''' 0.3692\n",
        "matrixLambda = np.array([\n",
        "    [0, 1, 1, 2, 2, 2, 2, 2, 1, 1],\n",
        "    [1, 0, 2, 2, 2, 2, 2, 2, 1, 1],\n",
        "    [1, 2, 0, 1, 1, 1, 1, 1, 2, 2],\n",
        "    [2, 2, 1, 0, 1, 1, 1, 1, 2, 2],\n",
        "    [2, 2, 1, 1, 0, 1, 1, 1, 2, 2],\n",
        "    [2, 2, 1, 1, 1, 0, 1, 1, 2, 2],\n",
        "    [2, 2, 1, 1, 1, 1, 0, 1, 2, 2],\n",
        "    [2, 2, 1, 1, 1, 1, 1, 0, 2, 2],\n",
        "    [1, 1, 2, 2, 2, 2, 2, 2, 0, 1],\n",
        "    [1, 1, 2, 2, 2, 2, 2, 2, 1, 0]\n",
        "])\n",
        "\n",
        "'''\n",
        "# 0.3014\n",
        "matrixLambda = np.array([\n",
        "    [0, 2, 2, 1, 1, 1, 1, 1, 2, 2],\n",
        "    [2, 0, 1, 1, 1, 1, 1, 1, 2, 2],\n",
        "    [2, 1, 0, 2, 2, 2, 2, 2, 1, 1],\n",
        "    [1, 1, 2, 0, 2, 2, 2, 2, 1, 1],\n",
        "    [1, 1, 2, 2, 0, 2, 2, 2, 1, 1],\n",
        "    [1, 1, 2, 2, 2, 0, 2, 2, 1, 1],\n",
        "    [1, 1, 2, 2, 2, 2, 0, 2, 1, 1],\n",
        "    [1, 1, 2, 2, 2, 2, 2, 0, 1, 1],\n",
        "    [2, 2, 1, 1, 1, 1, 1, 1, 0, 2],\n",
        "    [2, 2, 1, 1, 1, 1, 1, 1, 2, 0]\n",
        "])\n",
        "\n",
        "# # 0.3716\n",
        "# matrixLambda = np.array([\n",
        "#     [0, 1, 1, 1, 1, 1, 1, 1, 1, 1],\n",
        "#     [1, 0, 1, 1, 1, 1, 1, 1, 1, 1],\n",
        "#     [1, 1, 0, 1, 1, 1, 1, 1, 1, 1],\n",
        "#     [1, 1, 1, 0, 1, 1, 1, 1, 1, 1],\n",
        "#     [1, 1, 1, 1, 0, 1, 1, 1, 1, 1],\n",
        "#     [1, 1, 1, 1, 1, 0, 1, 1, 1, 1],\n",
        "#     [1, 1, 1, 1, 1, 1, 0, 1, 1, 1],\n",
        "#     [1, 1, 1, 1, 1, 1, 1, 0, 1, 1],\n",
        "#     [1, 1, 1, 1, 1, 1, 1, 1, 0, 1],\n",
        "#     [1, 1, 1, 1, 1, 1, 1, 1, 1, 0]\n",
        "# ])\n",
        "# 数据特征降维\n",
        "feature_count = 25"
      ],
      "metadata": {
        "id": "PLViur605YQX"
      },
      "execution_count": 28,
      "outputs": []
    },
    {
      "cell_type": "markdown",
      "source": [
        "## 图片分类与类内计算"
      ],
      "metadata": {
        "id": "cAPbni1z5kIB"
      }
    },
    {
      "cell_type": "code",
      "source": [
        "# 提取第c类图片\n",
        "def extractClass(label, data, c):\n",
        "    # 提取出第c类图片放到listC\n",
        "    listC = []\n",
        "    for i in range(len(label)):\n",
        "        if label[i] == c:\n",
        "            listC.append(list(data[i, : ]))\n",
        "    return listC\n",
        "\n",
        "# 计算类内均值 类内离散度 比例 新的训练数据 主成分分析模型\n",
        "def calculateEC(x_train, y_train, feature_count):\n",
        "    # matrixE[i][j]表示第i类样本在第j个属性上的均值\n",
        "    matrixE = np.empty((10, feature_count))\n",
        "    matrixC = np.empty((10, feature_count))\n",
        "\n",
        "    pca = PCA(n_components = feature_count)\n",
        "    new_train_data = pca.fit_transform(x_train)\n",
        "\n",
        "    pc = [] # 先验概率\n",
        "    for i in range(10):\n",
        "        listC = extractClass(y_train, new_train_data, i)\n",
        "        pc.append(len(listC) / len(y_train))\n",
        "        for j in range(feature_count):\n",
        "            list1 = []\n",
        "            for k in range(len(listC)):\n",
        "                list1.append(listC[k][j])\n",
        "            matrixE[i, j] = np.mean(list1)\n",
        "            matrixC[i, j] = np.cov(list1)\n",
        "    return matrixE, matrixC, pc, new_train_data, pca"
      ],
      "metadata": {
        "id": "z_0htKT65jcu"
      },
      "execution_count": 18,
      "outputs": []
    },
    {
      "cell_type": "code",
      "source": [
        "# 根据最小风险贝叶斯模型进行分类\n",
        "def calculatePostrior(matrixE, matrixC, pc, test_data, feature_count):\n",
        "    risk = []\n",
        "    for i in range(10):\n",
        "        r = 0\n",
        "        for j in range(10):\n",
        "            p_x_wj = 1\n",
        "            for k in range(feature_count):\n",
        "                p_x_wj = p_x_wj * math.exp(- (test_data[k] - matrixE[j][k]) ** 2 / (2 * matrixC[j][k])) / math.sqrt(2 * math.pi * matrixC[j][k])\n",
        "            r += matrixLambda[i][j] * pc[i] * p_x_wj\n",
        "        risk.append(r)\n",
        "    return risk.index(min(risk))"
      ],
      "metadata": {
        "id": "JOYg2wiU6ZCu"
      },
      "execution_count": 19,
      "outputs": []
    },
    {
      "cell_type": "code",
      "source": [
        "if __name__ == '__main__':\n",
        "    matrixE, matrixC, pc, new_train_data, pca = calculateEC(x_train, y_train, feature_count)\n",
        "    new_test_data = pca.transform(x_test)\n",
        "\n",
        "    # 进行类别预测\n",
        "    pre_label = []\n",
        "    for i in range(len(y_test)):\n",
        "        pre_label.append(calculatePostrior(matrixE, matrixC, pc, new_test_data[i, : ], feature_count))\n",
        "\n",
        "    error_count = 0\n",
        "    for i in range(len(pre_label)):\n",
        "        if pre_label[i] != y_test[i]:\n",
        "            error_count += 1\n",
        "\n",
        "    print('Total test number is %d' % len(y_test))\n",
        "    print('Test accuracy is %f' % (1 - error_count / len(y_test)))"
      ],
      "metadata": {
        "colab": {
          "base_uri": "https://localhost:8080/"
        },
        "id": "_1_CTQN96bBX",
        "outputId": "bfcd90ea-15f4-43ac-9109-e9e596bf0c41"
      },
      "execution_count": 29,
      "outputs": [
        {
          "output_type": "stream",
          "name": "stdout",
          "text": [
            "Total test number is 10000\n",
            "Test accuracy is 0.301900\n"
          ]
        }
      ]
    }
  ]
}