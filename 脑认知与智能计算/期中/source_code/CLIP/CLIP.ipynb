{
 "cells": [
  {
   "cell_type": "code",
   "execution_count": 2,
   "metadata": {
    "collapsed": true
   },
   "outputs": [
    {
     "name": "stderr",
     "output_type": "stream",
     "text": [
      "C:\\Users\\mts14\\AppData\\Local\\Temp\\ipykernel_40136\\3166077845.py:10: TqdmExperimentalWarning: Using `tqdm.autonotebook.tqdm` in notebook mode. Use `tqdm.tqdm` instead to force console mode (e.g. in jupyter console)\n",
      "  from tqdm.autonotebook import tqdm\n"
     ]
    }
   ],
   "source": [
    "# packages\n",
    "import os\n",
    "import cv2\n",
    "import gc\n",
    "import yaml\n",
    "import numpy as np\n",
    "import pandas as pd\n",
    "import matplotlib.pyplot as plt\n",
    "import itertools\n",
    "from tqdm.autonotebook import tqdm\n",
    "import albumentations as A\n",
    "\n",
    "import torch\n",
    "from torch import nn\n",
    "import torch.nn.functional as F\n",
    "import timm\n",
    "from transformers import DistilBertModel, DistilBertConfig, DistilBertTokenizer"
   ]
  },
  {
   "cell_type": "markdown",
   "source": [
    "## Config"
   ],
   "metadata": {
    "collapsed": false
   }
  },
  {
   "cell_type": "code",
   "execution_count": 3,
   "outputs": [],
   "source": [
    "with open(\"CLIP_config.yaml\", \"r\") as configs:\n",
    "    config = yaml.load(configs,  Loader=yaml.FullLoader)"
   ],
   "metadata": {
    "collapsed": false
   }
  },
  {
   "cell_type": "markdown",
   "source": [
    "## Utils"
   ],
   "metadata": {
    "collapsed": false
   }
  },
  {
   "cell_type": "code",
   "execution_count": 4,
   "outputs": [],
   "source": [
    "class AvgMeter:\n",
    "    \"\"\"\n",
    "    average metrics meter\n",
    "    \"\"\"\n",
    "    def __init__(self, name=\"Metric\"):\n",
    "        self.name = name\n",
    "        self.reset()\n",
    "\n",
    "    def reset(self):\n",
    "        self.avg, self.sum, self.count = [0] * 3\n",
    "\n",
    "    def update(self, val, count=1):\n",
    "        self.count += count\n",
    "        self.sum += val * count\n",
    "        self.avg = self.sum / self.count\n",
    "\n",
    "    def __repr__(self):\n",
    "        text = f\"{self.name}: {self.avg:.4f}\"\n",
    "        return text\n",
    "\n",
    "def get_lr(optimizer):\n",
    "    \"\"\"\n",
    "    get learning rate of the optimizer\n",
    "    \"\"\"\n",
    "    for param_group in optimizer.param_groups:\n",
    "        return param_group[\"lr\"]"
   ],
   "metadata": {
    "collapsed": false
   }
  },
  {
   "cell_type": "markdown",
   "source": [
    "## Dataset"
   ],
   "metadata": {
    "collapsed": false
   }
  },
  {
   "cell_type": "code",
   "execution_count": 5,
   "outputs": [],
   "source": [
    "class CLIPDataset(torch.utils.data.Dataset):\n",
    "\n",
    "    \"\"\"\n",
    "    CLIP model Datasets\n",
    "    \"\"\"\n",
    "    def __init__(self, image_filenames, captions, tokenizer, transforms):\n",
    "        self.image_names = image_filenames\n",
    "        self.captions = captions\n",
    "        self.encoded_captions = tokenizer (\n",
    "            list(captions), padding=True, truncation=True, max_length=config['model']['max_length']\n",
    "        )\n",
    "        self.transforms = transforms\n",
    "        pass\n",
    "\n",
    "    def __getitem__(self, idx):\n",
    "        # ids: caption tokenizers\n",
    "        item = {\n",
    "            key: torch.tensor(values[idx]) for key, values in self.encoded_captions.items()\n",
    "        }\n",
    "\n",
    "        image = cv2.imread(f\"{config['paths']['image_path']} / {self.image_names[idx]}\")\n",
    "        image = cv2.cvtColor(image, cv2.COLOR_BGR2RGB)\n",
    "        if self.transforms:\n",
    "            image = self.transforms(image=image)['image']\n",
    "\n",
    "        item['image'] = torch.tensor(image).permute(2, 0, 1).float()\n",
    "\n",
    "        # for display\n",
    "        item['caption'] = self.captions[idx]\n",
    "\n",
    "        return item\n",
    "\n",
    "    def __len__(self):\n",
    "        return len(self.captions)"
   ],
   "metadata": {
    "collapsed": false
   }
  },
  {
   "cell_type": "code",
   "execution_count": 6,
   "outputs": [],
   "source": [
    "# transforms\n",
    "def get_transforms(mode=\"train\"):\n",
    "    if mode == \"train\":\n",
    "        return A.Compose(\n",
    "            [\n",
    "                A.Resize(config['model']['size'], config['model']['size'], always_apply=True),\n",
    "                A.Normalize(max_pixel_value=255.0, always_apply=True),\n",
    "            ]\n",
    "        )\n",
    "    else:\n",
    "        return A.Compose(\n",
    "            [\n",
    "                A.Resize(config['model']['size'], config['model']['size'], always_apply=True),\n",
    "                A.Normalize(max_pixel_value=255.0, always_apply=True),\n",
    "            ]\n",
    "        )"
   ],
   "metadata": {
    "collapsed": false
   }
  },
  {
   "cell_type": "markdown",
   "source": [
    "## Image Encoder"
   ],
   "metadata": {
    "collapsed": false
   }
  },
  {
   "cell_type": "code",
   "execution_count": 7,
   "outputs": [],
   "source": [
    "class ImageEncoder(nn.Module):\n",
    "    \"\"\"\n",
    "    Encode images to a fixed size vector\n",
    "    \"\"\"\n",
    "\n",
    "    def __init__(self,\n",
    "                 model_name=config['model']['model_name'],\n",
    "                 pretrained=config['training']['pretrained'],\n",
    "                 trainable=config['training']['trainable']):\n",
    "        super().__init__()\n",
    "        self.model = timm.create_model(model_name, pretrained=pretrained, num_classes=0, global_pool='avg')\n",
    "        for p in self.model.parameters():\n",
    "            p.requires_grad = trainable\n",
    "\n",
    "\n",
    "    def forward(self, x):\n",
    "        return self.model(x)"
   ],
   "metadata": {
    "collapsed": false
   }
  },
  {
   "cell_type": "markdown",
   "source": [
    "## Text Encoder"
   ],
   "metadata": {
    "collapsed": false
   }
  },
  {
   "cell_type": "code",
   "execution_count": 8,
   "outputs": [],
   "source": [
    "class TextEncoder(nn.Module):\n",
    "    \"\"\"\n",
    "    Encode text (captions) using `DistillBertModel`\n",
    "    \"\"\"\n",
    "\n",
    "    def __init__(self,\n",
    "                 model_name=config['model']['text_encoder_model'],\n",
    "                 pretrained=config['training']['pretrained'],\n",
    "                 trainable=config['training']['trainable']):\n",
    "        super().__init__()\n",
    "        if pretrained:\n",
    "            self.model = DistilBertModel.from_pretrained(model_name)\n",
    "        else:\n",
    "            self.model = DistilBertModel(config=DistilBertConfig())\n",
    "\n",
    "        for p in self.model.parameters():\n",
    "            p.requires_grad = trainable\n",
    "\n",
    "        # CLS token as sentence embedding\n",
    "        self.target_token_idx = 0\n",
    "\n",
    "    def forward(self, input_ids, attention_mask):\n",
    "        output = self.model(input_ids=input_ids, attention_mask=attention_mask)\n",
    "        last_hidden_state = output.last_hidden_state\n",
    "        return last_hidden_state[:, self.target_token_idx, :]"
   ],
   "metadata": {
    "collapsed": false
   }
  },
  {
   "cell_type": "markdown",
   "source": [
    "## Projection Head"
   ],
   "metadata": {
    "collapsed": false
   }
  },
  {
   "cell_type": "code",
   "execution_count": 9,
   "outputs": [],
   "source": [
    "class ProjectionHead(nn.Module):\n",
    "    \"\"\"\n",
    "    Project embedding to target dimension\n",
    "    \"\"\"\n",
    "\n",
    "    def __init__(self,\n",
    "                 embedding_dim,\n",
    "                 projection_dim=config['model']['projection_dim'],\n",
    "                 dropout=config['model']['dropout']):\n",
    "        super().__init__()\n",
    "        self.projection = nn.Linear(embedding_dim, projection_dim)\n",
    "        self.gelu = nn.GELU()\n",
    "        self.fc = nn.Linear(projection_dim, projection_dim)\n",
    "        self.dropout = nn.Dropout(dropout)\n",
    "        self.layer_norm = nn.LayerNorm(projection_dim)\n",
    "\n",
    "    def forward(self, x):\n",
    "        projected = self.projection(x)\n",
    "        x = self.gelu(projected)\n",
    "        x = self.fc(x)\n",
    "        x = self.dropout(x)\n",
    "        x = x + projected\n",
    "        x = self.layer_norm(x)\n",
    "        return x"
   ],
   "metadata": {
    "collapsed": false
   }
  },
  {
   "cell_type": "markdown",
   "source": [
    "## CLIP\n",
    "\n",
    "![CLIP_structure](CLIP.png)\n",
    "\n",
    "- similarity\n",
    "$$\n",
    "    \\text{logits} = \\frac{1}{T} E_{\\text{text}} \\cdot E_{\\text{image}} \\\\\n",
    "    \\text{targets} = \\frac{1}{2} (E_{\\text{text}} \\cdot E_{\\text{text}}^T + E_{\\text{image}} \\cdot E_{\\text{image}}^T) \\\\\n",
    "    \\text{Loss} = \\frac{1}{2 |\\mathcal{B}|} (\\text{CrossEntropy(\\text{logits}, \\text{targets})} + \\text{CrossEntropy(\\text{logits}^T, \\text{targets}^T)})\n",
    "\n",
    "$$\n"
   ],
   "metadata": {
    "collapsed": false
   }
  },
  {
   "cell_type": "code",
   "execution_count": 10,
   "outputs": [],
   "source": [
    "def cross_entropy(preds, targets, reduction='none'):\n",
    "    \"\"\"\n",
    "    customized cross entropy\n",
    "    \"\"\"\n",
    "    log_softmax = nn.LogSoftmax(dim=-1)\n",
    "    loss = (-targets * log_softmax(preds)).sum(1)\n",
    "    if reduction == 'none':\n",
    "        return loss\n",
    "    elif reduction == 'mean':\n",
    "        return loss.mean()\n",
    "\n",
    "\n",
    "\n",
    "class CLIPModel(nn.Module):\n",
    "    \"\"\"\n",
    "    CLIP model\n",
    "    \"\"\"\n",
    "    def __init__(self,\n",
    "                 temperature=config['training']['temperature'],\n",
    "                 image_embedding=config['model']['image_embedding'],\n",
    "                 text_embedding=config['model']['text_embedding']):\n",
    "        super().__init__()\n",
    "        self.text_encoder = TextEncoder()\n",
    "        self.text_proj = ProjectionHead(embedding_dim=text_embedding)\n",
    "        self.image_encoder = ImageEncoder()\n",
    "        self.image_proj = ProjectionHead(embedding_dim=image_embedding)\n",
    "        self.temperature = temperature\n",
    "\n",
    "\n",
    "    def forward(self, batch):\n",
    "        # get features\n",
    "        image_features = self.image_encoder(batch['image'])\n",
    "        text_features = self.text_encoder(batch['text'])\n",
    "\n",
    "        # getting embeddings (with the same dimension)\n",
    "        image_embeddings = self.image_projection(image_features)\n",
    "        text_embeddings = self.text_projection(text_features)\n",
    "\n",
    "        # calculate the loss\n",
    "        logits = image_embeddings @ text_embeddings / self.temperature\n",
    "        image_sim = image_embeddings @ image_embeddings.T  # {batch_size, batch_size)\n",
    "        text_sim = text_embeddings @ text_embeddings.T\n",
    "        targets = F.softmax((image_sim + text_sim) / 2 * self.temperature, dim=-1)\n",
    "\n",
    "        text_loss = cross_entropy(logits, targets)\n",
    "        image_loss = cross_entropy(logits.T, targets.T)\n",
    "\n",
    "        loss = (image_loss + text_loss) / 2  # (batch_size)\n",
    "        return loss.mean()\n"
   ],
   "metadata": {
    "collapsed": false
   }
  },
  {
   "cell_type": "markdown",
   "source": [
    "## Training"
   ],
   "metadata": {
    "collapsed": false
   }
  },
  {
   "cell_type": "code",
   "execution_count": 11,
   "outputs": [],
   "source": [
    "def get_dataframes():\n",
    "    \"\"\"\n",
    "    get image and caption dataframes\n",
    "    \"\"\"\n",
    "    dataframe = pd.read_csv(f\"{config['paths']['captions_path']}/captions.csv\")\n",
    "    dataframe['id'] = range(1, len(dataframe) + 1)\n",
    "    max_id = dataframe[\"id\"].max() + 1 if not config['training']['debug'] else 100\n",
    "    # max_id = 100\n",
    "    image_ids = np.arange(0, max_id)\n",
    "    np.random.seed(42)\n",
    "\n",
    "    # training set & validation set split\n",
    "    valid_ids = np.random.choice(\n",
    "        image_ids, size=int(0.2 * len(image_ids)), replace=False\n",
    "    )\n",
    "    train_ids = [id_ for id_ in image_ids if id_ not in valid_ids]\n",
    "    train_dataframe = dataframe[dataframe[\"id\"].isin(train_ids)].reset_index(drop=True)\n",
    "    valid_dataframe = dataframe[dataframe[\"id\"].isin(valid_ids)].reset_index(drop=True)\n",
    "    return train_dataframe, valid_dataframe\n",
    "\n",
    "def build_loaders(dataframe, tokenizer, mode):\n",
    "    \"\"\"\n",
    "    Build dataloaders\n",
    "    \"\"\"\n",
    "    transforms = get_transforms(mode=mode)\n",
    "    dataset = CLIPDataset(\n",
    "        dataframe[\"image\"].values,\n",
    "        dataframe[\"caption\"].values,\n",
    "        tokenizer=tokenizer,\n",
    "        transforms=transforms,\n",
    "    )\n",
    "    dataloader = torch.utils.data.DataLoader(\n",
    "        dataset,\n",
    "        batch_size=config['training']['batch_size'],\n",
    "        num_workers=config['training']['num_workers'],\n",
    "        shuffle=True if mode == \"train\" else False,\n",
    "    )\n",
    "    return dataloader"
   ],
   "metadata": {
    "collapsed": false
   }
  },
  {
   "cell_type": "code",
   "execution_count": 12,
   "outputs": [],
   "source": [
    "def train(model, train_loader, optimizer, lr_scheduler, step, device=config['training']['device']):\n",
    "    \"\"\"\n",
    "    training per epoch\n",
    "    \"\"\"\n",
    "    loss_meter = AvgMeter()\n",
    "    tqdm_obj = tqdm(train_loader, total=len(train_loader))\n",
    "    for batch in tqdm_obj:\n",
    "        # clean title\n",
    "        batch = {k: v.to(device) for k, v in batch.items() if k != 'caption'}\n",
    "        loss = model(batch)\n",
    "        loss.backward()\n",
    "        optimizer.step()\n",
    "        if step == 'batch':\n",
    "            lr_scheduler.step()\n",
    "        count = batch[\"image\"].size(0)\n",
    "        loss_meter.update(loss.item(), count)\n",
    "\n",
    "        tqdm_obj.set_postfix(train_loss=loss_meter.avg, lr=get_lr(optimizer))\n",
    "    return loss_meter\n",
    "\n",
    "def valid_epoch(model, valid_loader,device=config['training']['device']):\n",
    "    loss_meter = AvgMeter()\n",
    "\n",
    "    tqdm_object = tqdm(valid_loader, total=len(valid_loader))\n",
    "    for batch in tqdm_object:\n",
    "        batch = {k: v.to(device) for k, v in batch.items() if k != \"caption\"}\n",
    "        loss = model(batch)\n",
    "\n",
    "        count = batch[\"image\"].size(0)\n",
    "        loss_meter.update(loss.item(), count)\n",
    "\n",
    "        tqdm_object.set_postfix(valid_loss=loss_meter.avg)\n",
    "    return loss_meter\n",
    "\n",
    "# training\n",
    "def training():\n",
    "    \"\"\"\n",
    "    CLIP model training\n",
    "    \"\"\"\n",
    "    train_df, valid_df = get_dataframes()\n",
    "    tokenizer = DistilBertTokenizer.from_pretrained(config['model']['text_tokenizer'])\n",
    "    train_loader = build_loaders(train_df, tokenizer, mode=\"train\")\n",
    "    valid_loader = build_loaders(valid_df, tokenizer, mode=\"valid\")\n",
    "\n",
    "    model = CLIPModel().to(config['training']['device'])\n",
    "    params = [\n",
    "        {\"params\": model.image_encoder.parameters(), \"lr\": config['training']['image_encoder_lr']},\n",
    "        {\"params\": model.text_encoder.parameters(), \"lr\": config['training']['text_encoder_lr']},\n",
    "        {\"params\": itertools.chain(\n",
    "            model.image_proj.parameters(), model.text_proj.parameters()\n",
    "        ), \"lr\": config['training']['head_lr'], \"weight_decay\": config['training']['weight_decay']}\n",
    "    ]\n",
    "    optimizer = torch.optim.AdamW(params, weight_decay=0.)\n",
    "    lr_scheduler = torch.optim.lr_scheduler.ReduceLROnPlateau(\n",
    "        optimizer, mode=\"min\", patience=config['training']['patience'], factor=config['training']['factor']\n",
    "    )\n",
    "    step = \"epoch\"\n",
    "\n",
    "    best_loss = float('inf')\n",
    "\n",
    "    for epoch in range(config['training']['epochs']):\n",
    "        print(f\"Epoch: {epoch + 1}\")\n",
    "        model.train()\n",
    "        train_loss = train(model, train_loader, optimizer, lr_scheduler, step)\n",
    "        model.eval()\n",
    "        with torch.no_grad():\n",
    "            valid_loss = valid_epoch(model, valid_loader)\n",
    "\n",
    "        if valid_loss.avg < best_loss:\n",
    "            best_loss = valid_loss.avg\n",
    "            torch.save(model.state_dict(), \"best.pt\")\n",
    "            print(\"Saved Best Model!\")\n",
    "\n",
    "        lr_scheduler.step(valid_loss.avg)\n"
   ],
   "metadata": {
    "collapsed": false
   }
  },
  {
   "cell_type": "code",
   "execution_count": null,
   "outputs": [
    {
     "name": "stdout",
     "output_type": "stream",
     "text": [
      "Epoch: 1\n"
     ]
    },
    {
     "data": {
      "text/plain": "  0%|          | 0/6473 [00:00<?, ?it/s]",
      "application/vnd.jupyter.widget-view+json": {
       "version_major": 2,
       "version_minor": 0,
       "model_id": "37920db39a7f47ceab120baaff3f4c7f"
      }
     },
     "metadata": {},
     "output_type": "display_data"
    }
   ],
   "source": [
    "training()"
   ],
   "metadata": {
    "collapsed": false,
    "pycharm": {
     "is_executing": true
    }
   }
  },
  {
   "cell_type": "markdown",
   "source": [
    "## Inference"
   ],
   "metadata": {
    "collapsed": false
   }
  },
  {
   "cell_type": "code",
   "execution_count": null,
   "outputs": [],
   "source": [
    "def get_image_embeddings(valid_df, model_path):\n",
    "    tokenizer = DistilBertTokenizer.from_pretrained(config['model']['text_tokenizer'])\n",
    "    valid_loader = build_loaders(valid_df, tokenizer, mode=\"valid\")\n",
    "\n",
    "    model = CLIPModel().to(config['training']['device'])\n",
    "    model.load_state_dict(torch.load(model_path, map_location=config['training']['device']))\n",
    "    model.eval()\n",
    "\n",
    "    valid_image_embeddings = []\n",
    "    with torch.no_grad():\n",
    "        for batch in tqdm(valid_loader):\n",
    "            image_features = model.image_encoder(batch[\"image\"].to(config['training']['device']))\n",
    "            image_embeddings = model.image_projection(image_features)\n",
    "            valid_image_embeddings.append(image_embeddings)\n",
    "    return model, torch.cat(valid_image_embeddings)"
   ],
   "metadata": {
    "collapsed": false
   }
  },
  {
   "cell_type": "code",
   "execution_count": null,
   "outputs": [],
   "source": [
    "_, valid_df = get_dataframes()\n",
    "model, image_embeddings = get_image_embeddings(valid_df, \"best.pt\")"
   ],
   "metadata": {
    "collapsed": false
   }
  },
  {
   "cell_type": "markdown",
   "source": [
    "## Finding Matches"
   ],
   "metadata": {
    "collapsed": false
   }
  },
  {
   "cell_type": "code",
   "execution_count": null,
   "outputs": [],
   "source": [
    "def find_matches(model, image_embeddings, query, image_filenames, n=9):\n",
    "    tokenizer = DistilBertTokenizer.from_pretrained(config['model']['text_tokenizer'])\n",
    "    encoded_query = tokenizer([query])\n",
    "    batch = {\n",
    "        key: torch.tensor(values).to(config['training']['device'])\n",
    "        for key, values in encoded_query.items()\n",
    "    }\n",
    "    with torch.no_grad():\n",
    "        text_features = model.text_encoder(\n",
    "            input_ids=batch[\"input_ids\"], attention_mask=batch[\"attention_mask\"]\n",
    "        )\n",
    "        text_embeddings = model.text_projection(text_features)\n",
    "\n",
    "    image_embeddings_n = F.normalize(image_embeddings, p=2, dim=-1)\n",
    "    text_embeddings_n = F.normalize(text_embeddings, p=2, dim=-1)\n",
    "    dot_similarity = text_embeddings_n @ image_embeddings_n.T\n",
    "\n",
    "    values, indices = torch.topk(dot_similarity.squeeze(0), n * 5)\n",
    "    matches = [image_filenames[idx] for idx in indices[::5]]\n",
    "\n",
    "    _, axes = plt.subplots(3, 3, figsize=(10, 10))\n",
    "    for match, ax in zip(matches, axes.flatten()):\n",
    "        image = cv2.imread(f\"{config['paths']['image_path'].image_path}/{match}\")\n",
    "        image = cv2.cvtColor(image, cv2.COLOR_BGR2RGB)\n",
    "        ax.imshow(image)\n",
    "        ax.axis(\"off\")\n",
    "\n",
    "    plt.show()"
   ],
   "metadata": {
    "collapsed": false
   }
  },
  {
   "cell_type": "code",
   "execution_count": null,
   "outputs": [],
   "source": [
    "find_matches(model,\n",
    "             image_embeddings,\n",
    "             query=\"a group of people dancing in a party\",\n",
    "             image_filenames=valid_df['image'].values,\n",
    "             n=9)"
   ],
   "metadata": {
    "collapsed": false
   }
  }
 ],
 "metadata": {
  "kernelspec": {
   "display_name": "Python 3",
   "language": "python",
   "name": "python3"
  },
  "language_info": {
   "codemirror_mode": {
    "name": "ipython",
    "version": 2
   },
   "file_extension": ".py",
   "mimetype": "text/x-python",
   "name": "python",
   "nbconvert_exporter": "python",
   "pygments_lexer": "ipython2",
   "version": "2.7.6"
  }
 },
 "nbformat": 4,
 "nbformat_minor": 0
}
