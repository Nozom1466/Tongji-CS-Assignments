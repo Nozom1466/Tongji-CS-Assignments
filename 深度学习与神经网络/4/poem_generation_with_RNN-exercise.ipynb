{
 "cells": [
  {
   "cell_type": "markdown",
   "metadata": {},
   "source": [
    "# 诗歌生成"
   ]
  },
  {
   "cell_type": "markdown",
   "metadata": {
    "tags": []
   },
   "source": [
    "# 数据处理"
   ]
  },
  {
   "cell_type": "code",
   "execution_count": 15,
   "metadata": {},
   "outputs": [],
   "source": [
    "import numpy as np\n",
    "import tensorflow as tf\n",
    "import collections\n",
    "from tensorflow import keras\n",
    "from tensorflow.keras import layers\n",
    "from tensorflow.keras import layers, optimizers, datasets\n",
    "\n",
    "start_token = 'bos'\n",
    "end_token = 'eos'\n",
    "\n",
    "def process_dataset(fileName):\n",
    "    examples = []\n",
    "    with open(fileName, 'r') as fd:\n",
    "        for line in fd:\n",
    "            outs = line.strip().split(':')\n",
    "            content = ''.join(outs[1:])\n",
    "            ins = [start_token] + list(content) + [end_token] \n",
    "            if len(ins) > 200:\n",
    "                continue\n",
    "            examples.append(ins)\n",
    "            \n",
    "    counter = collections.Counter()\n",
    "    for e in examples:\n",
    "        for w in e:\n",
    "            counter[w]+=1\n",
    "    \n",
    "    sorted_counter = sorted(counter.items(), key=lambda x: -x[1])  # 排序\n",
    "    words, _ = zip(*sorted_counter)\n",
    "    words = ('PAD', 'UNK') + words[:len(words)]\n",
    "    word2id = dict(zip(words, range(len(words))))\n",
    "    id2word = {word2id[k]:k for k in word2id}\n",
    "    \n",
    "    indexed_examples = [[word2id[w] for w in poem]\n",
    "                        for poem in examples]\n",
    "    seqlen = [len(e) for e in indexed_examples]\n",
    "    \n",
    "    instances = list(zip(indexed_examples, seqlen))\n",
    "    \n",
    "    return instances, word2id, id2word\n",
    "\n",
    "def poem_dataset():\n",
    "    instances, word2id, id2word = process_dataset('./poems.txt')\n",
    "    ds = tf.data.Dataset.from_generator(lambda: [ins for ins in instances], \n",
    "                                            (tf.int64, tf.int64), \n",
    "                                            (tf.TensorShape([None]),tf.TensorShape([])))\n",
    "    ds = ds.shuffle(buffer_size=10240)\n",
    "    ds = ds.padded_batch(100, padded_shapes=(tf.TensorShape([None]),tf.TensorShape([])))\n",
    "    ds = ds.map(lambda x, seqlen: (x[:, :-1], x[:, 1:], seqlen-1))\n",
    "    return ds, word2id, id2word"
   ]
  },
  {
   "cell_type": "markdown",
   "metadata": {},
   "source": [
    "# 模型代码， 完成建模代码"
   ]
  },
  {
   "cell_type": "code",
   "execution_count": 16,
   "metadata": {},
   "outputs": [],
   "source": [
    "class myRNNModel(keras.Model):\n",
    "    def __init__(self, w2id):\n",
    "        super(myRNNModel, self).__init__()\n",
    "        self.v_sz = len(w2id)\n",
    "        self.embed_layer = tf.keras.layers.Embedding(self.v_sz, 64, \n",
    "                                                    batch_input_shape=[None, None])\n",
    "        \n",
    "        self.rnncell = tf.keras.layers.SimpleRNNCell(128)\n",
    "        self.rnn_layer = tf.keras.layers.RNN(self.rnncell, return_sequences=True)\n",
    "        self.dense = tf.keras.layers.Dense(self.v_sz)\n",
    "        \n",
    "    @tf.function\n",
    "    def call(self, inp_ids):\n",
    "        '''\n",
    "        此处完成建模过程，可以参考Learn2Carry\n",
    "        '''\n",
    "        in_emb = self.embed_layer(inp_ids)\n",
    "        rnn_output = self.rnn_layer(in_emb)\n",
    "        logits = self.dense(rnn_output)\n",
    "        return logits\n",
    "    \n",
    "    @tf.function\n",
    "    def get_next_token(self, x, state):\n",
    "        '''\n",
    "        shape(x) = [b_sz,] \n",
    "        '''\n",
    "    \n",
    "        inp_emb = self.embed_layer(x) #shape(b_sz, emb_sz)\n",
    "        h, state = self.rnncell.call(inp_emb, state) # shape(b_sz, h_sz)\n",
    "        logits = self.dense(h) # shape(b_sz, v_sz)\n",
    "        out = tf.argmax(logits, axis=-1)\n",
    "        return out, state"
   ]
  },
  {
   "cell_type": "markdown",
   "metadata": {},
   "source": [
    "## 一个计算sequence loss的辅助函数，只需了解用途。"
   ]
  },
  {
   "cell_type": "code",
   "execution_count": 17,
   "metadata": {},
   "outputs": [],
   "source": [
    "def mkMask(input_tensor, maxLen):\n",
    "    shape_of_input = tf.shape(input_tensor)\n",
    "    shape_of_output = tf.concat(axis=0, values=[shape_of_input, [maxLen]])\n",
    "\n",
    "    oneDtensor = tf.reshape(input_tensor, shape=(-1,))\n",
    "    flat_mask = tf.sequence_mask(oneDtensor, maxlen=maxLen)\n",
    "    return tf.reshape(flat_mask, shape_of_output)\n",
    "\n",
    "\n",
    "def reduce_avg(reduce_target, lengths, dim):\n",
    "    \"\"\"\n",
    "    Args:\n",
    "        reduce_target : shape(d_0, d_1,..,d_dim, .., d_k)\n",
    "        lengths : shape(d0, .., d_(dim-1))\n",
    "        dim : which dimension to average, should be a python number\n",
    "    \"\"\"\n",
    "    shape_of_lengths = lengths.get_shape()\n",
    "    shape_of_target = reduce_target.get_shape()\n",
    "    if len(shape_of_lengths) != dim:\n",
    "        raise ValueError(('Second input tensor should be rank %d, ' +\n",
    "                         'while it got rank %d') % (dim, len(shape_of_lengths)))\n",
    "    if len(shape_of_target) < dim+1 :\n",
    "        raise ValueError(('First input tensor should be at least rank %d, ' +\n",
    "                         'while it got rank %d') % (dim+1, len(shape_of_target)))\n",
    "\n",
    "    rank_diff = len(shape_of_target) - len(shape_of_lengths) - 1\n",
    "    mxlen = tf.shape(reduce_target)[dim]\n",
    "    mask = mkMask(lengths, mxlen)\n",
    "    if rank_diff!=0:\n",
    "        len_shape = tf.concat(axis=0, values=[tf.shape(lengths), [1]*rank_diff])\n",
    "        mask_shape = tf.concat(axis=0, values=[tf.shape(mask), [1]*rank_diff])\n",
    "    else:\n",
    "        len_shape = tf.shape(lengths)\n",
    "        mask_shape = tf.shape(mask)\n",
    "    lengths_reshape = tf.reshape(lengths, shape=len_shape)\n",
    "    mask = tf.reshape(mask, shape=mask_shape)\n",
    "\n",
    "    mask_target = reduce_target * tf.cast(mask, dtype=reduce_target.dtype)\n",
    "\n",
    "    red_sum = tf.reduce_sum(mask_target, axis=[dim], keepdims=False)\n",
    "    red_avg = red_sum / (tf.cast(lengths_reshape, dtype=tf.float32) + 1e-30)\n",
    "    return red_avg"
   ]
  },
  {
   "cell_type": "markdown",
   "metadata": {},
   "source": [
    "# 定义loss函数，定义训练函数"
   ]
  },
  {
   "cell_type": "code",
   "execution_count": 18,
   "metadata": {},
   "outputs": [],
   "source": [
    "@tf.function\n",
    "def compute_loss(logits, labels, seqlen):\n",
    "    losses = tf.nn.sparse_softmax_cross_entropy_with_logits(\n",
    "            logits=logits, labels=labels)\n",
    "    losses = reduce_avg(losses, seqlen, dim=1)\n",
    "    return tf.reduce_mean(losses)\n",
    "\n",
    "@tf.function\n",
    "def train_one_step(model, optimizer, x, y, seqlen):\n",
    "    '''\n",
    "    完成一步优化过程，可以参考之前做过的模型\n",
    "    '''\n",
    "    with tf.GradientTape() as tape:\n",
    "        logits = model(x)\n",
    "        loss = compute_loss(logits, y, seqlen)\n",
    "    # compute gradient\n",
    "    grads = tape.gradient(loss, model.trainable_variables)\n",
    "    optimizer.apply_gradients(zip(grads, model.trainable_variables))\n",
    "    return loss\n",
    "\n",
    "def train(epoch, model, optimizer, ds):\n",
    "    loss = 0.0\n",
    "    accuracy = 0.0\n",
    "    for step, (x, y, seqlen) in enumerate(ds):\n",
    "        loss = train_one_step(model, optimizer, x, y, seqlen)\n",
    "\n",
    "        if step % 500 == 0:\n",
    "            print('epoch', epoch, ': loss', loss.numpy())\n",
    "\n",
    "    return loss"
   ]
  },
  {
   "cell_type": "markdown",
   "metadata": {},
   "source": [
    "# 训练优化过程"
   ]
  },
  {
   "cell_type": "code",
   "execution_count": 19,
   "metadata": {},
   "outputs": [
    {
     "name": "stdout",
     "output_type": "stream",
     "text": [
      "epoch 0 : loss 8.819593\n",
      "epoch 1 : loss 6.594458\n",
      "epoch 2 : loss 6.124444\n",
      "epoch 3 : loss 5.803903\n",
      "epoch 4 : loss 5.8253565\n",
      "epoch 5 : loss 5.554622\n",
      "epoch 6 : loss 5.4649296\n",
      "epoch 7 : loss 5.3995476\n",
      "epoch 8 : loss 5.453012\n",
      "epoch 9 : loss 5.268361\n",
      "epoch 10 : loss 5.2545485\n",
      "epoch 11 : loss 5.176853\n",
      "epoch 12 : loss 5.058658\n",
      "epoch 13 : loss 5.1676683\n",
      "epoch 14 : loss 5.0461235\n",
      "epoch 15 : loss 5.017854\n",
      "epoch 16 : loss 5.0087776\n",
      "epoch 17 : loss 4.991568\n",
      "epoch 18 : loss 4.981092\n",
      "epoch 19 : loss 4.831522\n",
      "epoch 20 : loss 4.882389\n",
      "epoch 21 : loss 4.9064474\n",
      "epoch 22 : loss 4.847244\n",
      "epoch 23 : loss 4.7270527\n",
      "epoch 24 : loss 4.8849754\n"
     ]
    }
   ],
   "source": [
    "optimizer = optimizers.Adam(0.0005)\n",
    "train_ds, word2id, id2word = poem_dataset()\n",
    "model = myRNNModel(word2id)\n",
    "\n",
    "for epoch in range(25):\n",
    "    loss = train(epoch, model, optimizer, train_ds)"
   ]
  },
  {
   "cell_type": "markdown",
   "metadata": {},
   "source": [
    "# 生成过程"
   ]
  },
  {
   "cell_type": "code",
   "execution_count": 23,
   "metadata": {},
   "outputs": [],
   "source": [
    "def gen_sentence():\n",
    "    state = [tf.random.normal(shape=(1, 128), stddev=0.5), tf.random.normal(shape=(1, 128), stddev=0.5)]\n",
    "    cur_token = tf.constant([word2id['bos']], dtype=tf.int32)\n",
    "    collect = []\n",
    "    for _ in range(50):\n",
    "        cur_token, state = model.get_next_token(cur_token, state)\n",
    "        collect.append(cur_token.numpy()[0])\n",
    "    return [id2word[t] for t in collect]"
   ]
  },
  {
   "cell_type": "code",
   "execution_count": 24,
   "metadata": {},
   "outputs": [
    {
     "name": "stdout",
     "output_type": "stream",
     "text": [
      "野花春草，山水夜中秋。eos月无人事，何人不得归。eos云无限意，不得一生人。eos有归山去，何人不得归。eos云无\n",
      "山上有人知有人，不知何处是何人。eos来不得无人事，不是人间不得知。eos有一声无限事，不知何处是春风。eos来\n",
      "日暮风，夜雨寒，一片落花如。eos有花花落，风吹白露香。eos来无限意，不得一生人。eos有东风起，无人不得归。\n",
      "三千里，不见人间事。eos有一杯酒，不知无所思。eos云不可见，不是一枝枝。eos有一声去，不知何处人。eos云无限\n",
      "风雨如何处。eos有一声归，不知何处处。eos有一声声，不知无所思。eos云不可见，不是一枝枝。eos有一声去，不知\n",
      "人间不可怜。eos得一声无限事，不知何处是无人。eos来不得归来处，不是人间不是人。eos有一声无限事，不知何处\n",
      "一点玉楼生不得，一枝花下一枝枝。eos人不得不知君。eos得不知何处处，不知何处是春风。eos来不得无人事，不是\n",
      "汉阳宫里春，不见花间不得归。eos有一声无限事，不知何处是无人。eos来不得归来处，不是人间不是人。eos有一声\n",
      "eos。eos天明月明，不见花中月。eos有一声声，不知天子语。eos有一杯酒，不能生不得。eos云不可见，不见人间老。\n",
      "eos生如此日。eos有一杯酒，不是人间老。eos有不可怜，不得心不得。eos云不可见，不见人间老。eos有一杯酒，不知\n",
      "山上有人间。eos后无人事，无人不可知。eos云无限意，不得一生人。eos有归山去，何人不得归。eos云无限意，不得\n",
      "何人不可怜，不知何处处。eos云不可见，不见江南月。eos有一声声，不知无人语。eos有一杯酒，不知无人语。eos有\n",
      "遥望南山去，何人不得归。eos云无限意，不得一生人。eos有归山去，何人不得归。eos云无限意，不得一生人。eos有\n",
      "金盘一片丝。eos，风雨不成春。eos得花间一片时，不知何处是何人。eos来不得无人事，不是人间不得知。eos有一声\n",
      "金鼎出门前。eos有三千里，无人不可知。eos云无限意，不得一生人。eos有归山去，何人不得归。eos云无限意，不得\n",
      "一声无限意，不得相思不可知。eos得不知何处处，不知何处是春风。eos来不得无人事，不是人间不得归。eos有一声\n",
      "人道不知君。eos有一时无限意，不知何处是无人。eos来不得无人事，不是人间不得归。eos有一声无限事，不知何处\n",
      "一枝花落日，一片落花枝。eos月无人事，何人到此时。eos云无限意，不得一生人。eos有归山去，何人不得归。eos云\n",
      "秋风吹落花。eos客不知何处处，一声犹是此时来。eos来不得无人事，不是人间不得归。eos有一声无限事，不知何处\n",
      "一枝花落花如月，不得闲人不得归。eos有一声无限意，不知何处是春风。eos来不得无人事，不是人间不得归。eos有\n",
      "eos水无人事不知，不知何处不知君。eos来不得无人事，不是人间不得知。eos有一声无限事，不知何处是春风。eos来\n",
      "eos公去，何人来。eos天明，不见人，不得归人。eos有一声，不见春风。eos云不见，一度春风。eos有神仙不可见，不\n",
      "山上有人。eos中不见，天子无穷。eos云不见，万里人间。eos有之子，不得生心。eos之之子，不得之生。eos之之德，\n",
      "eos人不得一枝枝。eos来不得无人事，不得闲人不得归。eos有一声无限意，不知何处是春风。eos来不得无人事，不是\n",
      "一点红花落，春风吹落花。eos来无限意，不得一生人。eos有归山去，何人不得归。eos云无限意，不得一生人。eos有\n",
      "君王不可见，不得不可知。eos有无人事，何人不可知。eos云无限意，不得一生人。eos有归山去，何人不得归。eos云\n",
      "eos得一枝看酒醒，不知何处是何人。eos来不得无人事，不是人间不得知。eos有一声无限事，不知何处是春风。eos来\n",
      "eos风吹笛声声断，不是人间不得归。eos有一声无限事，不知何处是春风。eos来不得无人事，不是人间不得归。eos有\n",
      "一片云中月，月明秋月月。eos云有，一片云，一片云中一片月。eos得一枝不见君，不见金钗不得语。eos人不得不相\n",
      "eos得无人间，不知何处处。eos有一片云，不知无人间。eos有一杯酒，不知何处处。eos云不可见，不见江南月。eos有\n",
      "山中有时。eos云不见，一枝花开。eos有花，上山中，一枝花落花枝。eos有花花，一枝花开。eos云不见，一枝花落。\n",
      "门下一峰下一曲，不知何处不知君。eos来不得一枝枝，不得闲人不得归。eos得一声无限意，不知何处是春风。eos来\n",
      "一千万里，相思不知。eos有一声不见，月明月上不知。eos有一声无限意，不知何处是无人。eos来不得无人事，不是\n",
      "，不知何处不知。eos有一声无限事，不知何处是无人。eos来不得无人事，不是人间不得归。eos有一声无限事，不知\n",
      "eos江南北望，云下有人间。eos有归山去，何人到此时。eos云无限意，不得一生人。eos有归山去，何人不得归。eos云\n",
      "，__皎然。eos君不得，一为人间不得。eos人不得，一为人间。eos有之子，不见人间。eos之不得，其以之。eos天之\n",
      "天子有人归。eos有山中月，何人不得归。eos云无限意，不得一生人。eos有归山去，何人不得归。eos云无限意，不得\n",
      "山上不见，月明月色。eos云入，一片云，一枝花落花枝。eos有一声，不见春风。eos云不见，一度春风。eos有神仙不\n",
      "eos思诗句贵，不得一生人。eos有三千里，何人不得归。eos云无限意，不得一生人。eos有归山去，何人不得归。eos云\n",
      "日南南北望乡关。eos来不得无人事，不是人间不得知。eos有一声无限事，不知何处是春风。eos来不得无人事，不是\n",
      "eos将一奏一声飞。eos玉玉，不见之子，不知何处处。eos有一杯酒，不是人间老。eos有不可怜，不得心不得。eos云不\n",
      "eos客不可见，相思不可知。eos云无所见，不得一生人。eos有归山去，何人不得归。eos云无限意，不得一生人。eos有\n",
      "eos玉金门里，风吹一片云。eos来无限意，不得一生人。eos有东风起，无人不得归。eos云无限意，不得一生人。eos有\n",
      "一枝如何处，一声无处不如何。eos来不得一枝枝，不是人间不得知。eos有一声无限事，不知何处是春风。eos来不得\n",
      "eos向五湖一一杯，不知何处是何人。eos来不得无人事，不是人间不得知。eos有一声无限事，不知何处是春风。eos来\n",
      "风吹一枝枝。eos有花枝下，风吹一片云。eos云无限意，不得一生人。eos有归山去，何人不得归。eos云无限意，不得\n",
      "月明朝日。eos玉玉堂，不见花开。eos云不见，一枝花开。eos有花下，一枝花落。eos人不见，一枝花落。eos玉玉树，\n",
      "eos客归来日，春风满岸头。eos云无限意，不得一生人。eos有归山去，何人不得归。eos云无限意，不得一生人。eos有\n",
      "白云山色重，一片白云里。eos月不可怜，一枝花不得。eos云不可见，不见江上月。eos云不可见，不见人间事。eos有\n",
      "月明明月月，月明月中秋。eos月无人事，何人不得归。eos云无限意，不得一生人。eos有归山去，何人不得归。eos云\n"
     ]
    }
   ],
   "source": [
    "for _ in range(50):\n",
    "    print(''.join(gen_sentence()))"
   ]
  },
  {
   "cell_type": "code",
   "execution_count": null,
   "metadata": {},
   "outputs": [],
   "source": []
  }
 ],
 "metadata": {
  "anaconda-cloud": {},
  "kernelspec": {
   "display_name": "Python 3 (ipykernel)",
   "language": "python",
   "name": "python3"
  },
  "language_info": {
   "codemirror_mode": {
    "name": "ipython",
    "version": 3
   },
   "file_extension": ".py",
   "mimetype": "text/x-python",
   "name": "python",
   "nbconvert_exporter": "python",
   "pygments_lexer": "ipython3",
   "version": "3.8.10"
  }
 },
 "nbformat": 4,
 "nbformat_minor": 4
}
